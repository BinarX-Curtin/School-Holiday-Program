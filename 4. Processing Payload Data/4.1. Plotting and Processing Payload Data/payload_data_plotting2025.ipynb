{
 "cells": [
  {
   "cell_type": "markdown",
   "id": "112620fd-82c8-472a-93b8-8d30b88a4cdf",
   "metadata": {},
   "source": [
    "# Model Rocket Payload Data Analysis"
   ]
  },
  {
   "cell_type": "markdown",
   "id": "05eeb047-8027-4c4a-b4d4-491653ea526d",
   "metadata": {},
   "source": [
    "Welcome to the Model Rocket Launch Data Analysis notebook! In this notebook, we will analyze the data from a model rocket launch.\n",
    "We will plot the data, identify any unusual values, and determine key events during the flight."
   ]
  },
  {
   "cell_type": "markdown",
   "id": "2da835d9-83af-4d75-bf47-a511e2d26355",
   "metadata": {},
   "source": [
    "## Step 1: Load the Data"
   ]
  },
  {
   "cell_type": "code",
   "execution_count": 1,
   "id": "a3d922f3-20fa-4dba-a951-204321437bf2",
   "metadata": {},
   "outputs": [],
   "source": [
    "import pandas as pd\n",
    "import seaborn as sns\n",
    "import matplotlib.pyplot as plt\n",
    "from ipywidgets import interact, widgets"
   ]
  },
  {
   "cell_type": "code",
   "execution_count": 5,
   "id": "122d3447-7fad-4188-b1fa-9d6d9158acfe",
   "metadata": {},
   "outputs": [],
   "source": [
    "# First, let's load the data from the CSV file.\n",
    "df = pd.read_csv('pressure_fake_data.csv')"
   ]
  },
  {
   "cell_type": "code",
   "execution_count": 6,
   "id": "5012ee34-3ef9-41c3-ac1a-b8d2bf041242",
   "metadata": {},
   "outputs": [
    {
     "data": {
      "text/html": [
       "<div>\n",
       "<style scoped>\n",
       "    .dataframe tbody tr th:only-of-type {\n",
       "        vertical-align: middle;\n",
       "    }\n",
       "\n",
       "    .dataframe tbody tr th {\n",
       "        vertical-align: top;\n",
       "    }\n",
       "\n",
       "    .dataframe thead th {\n",
       "        text-align: right;\n",
       "    }\n",
       "</style>\n",
       "<table border=\"1\" class=\"dataframe\">\n",
       "  <thead>\n",
       "    <tr style=\"text-align: right;\">\n",
       "      <th></th>\n",
       "      <th>Time (s)</th>\n",
       "      <th>Pressure (Pa)</th>\n",
       "    </tr>\n",
       "  </thead>\n",
       "  <tbody>\n",
       "    <tr>\n",
       "      <th>0</th>\n",
       "      <td>0.00</td>\n",
       "      <td>101240.061503</td>\n",
       "    </tr>\n",
       "    <tr>\n",
       "      <th>1</th>\n",
       "      <td>0.01</td>\n",
       "      <td>101386.242997</td>\n",
       "    </tr>\n",
       "    <tr>\n",
       "      <th>2</th>\n",
       "      <td>0.02</td>\n",
       "      <td>101417.967796</td>\n",
       "    </tr>\n",
       "    <tr>\n",
       "      <th>3</th>\n",
       "      <td>0.03</td>\n",
       "      <td>101431.025536</td>\n",
       "    </tr>\n",
       "    <tr>\n",
       "      <th>4</th>\n",
       "      <td>0.04</td>\n",
       "      <td>101261.808253</td>\n",
       "    </tr>\n",
       "  </tbody>\n",
       "</table>\n",
       "</div>"
      ],
      "text/plain": [
       "   Time (s)  Pressure (Pa)\n",
       "0      0.00  101240.061503\n",
       "1      0.01  101386.242997\n",
       "2      0.02  101417.967796\n",
       "3      0.03  101431.025536\n",
       "4      0.04  101261.808253"
      ]
     },
     "execution_count": 6,
     "metadata": {},
     "output_type": "execute_result"
    }
   ],
   "source": [
    "# Display the first few rows of the data\n",
    "df.head()"
   ]
  },
  {
   "cell_type": "markdown",
   "id": "63500046-2475-44b3-b65b-0f5395ba7180",
   "metadata": {},
   "source": [
    "## Step 2: Plot the Data"
   ]
  },
  {
   "cell_type": "code",
   "execution_count": 7,
   "id": "e2815827-08ec-4cfa-a958-a678b8d9ec24",
   "metadata": {},
   "outputs": [
    {
     "data": {
      "application/vnd.jupyter.widget-view+json": {
       "model_id": "3deb08e432b040738a47c780978439e0",
       "version_major": 2,
       "version_minor": 0
      },
      "text/plain": [
       "interactive(children=(Dropdown(description='Column:', options=('Pressure (Pa)',), value='Pressure (Pa)'), Outp…"
      ]
     },
     "metadata": {},
     "output_type": "display_data"
    },
    {
     "data": {
      "text/plain": [
       "<function __main__.plot_data(column)>"
      ]
     },
     "execution_count": 7,
     "metadata": {},
     "output_type": "execute_result"
    }
   ],
   "source": [
    "# Let's plot the payload data as time versus payload measurement values.\n",
    "\n",
    "# Plotting function\n",
    "def plot_data(column):\n",
    "    plt.figure(figsize=(12, 6))\n",
    "    sns.lineplot(x='Time (s)', y=column, data=df)\n",
    "    plt.title(f'Time vs {column}')\n",
    "    plt.xlabel('Time (s)')\n",
    "    plt.ylabel(column)\n",
    "    plt.show()\n",
    "\n",
    "# An interactive widget to select the column to plot\n",
    "interact(plot_data, column=widgets.Dropdown(options=df.columns[1:], description='Column:'))"
   ]
  },
  {
   "cell_type": "markdown",
   "id": "e210ef85-c2cf-4a71-a4c9-21008ed172e9",
   "metadata": {},
   "source": [
    "## Step 3: Identify Unusual Values"
   ]
  },
  {
   "cell_type": "code",
   "execution_count": 8,
   "id": "3d1ed16d-69e1-43bd-9da8-dccdf99ac82d",
   "metadata": {},
   "outputs": [
    {
     "data": {
      "application/vnd.jupyter.widget-view+json": {
       "model_id": "8842324cbeb840d7af23b0dc96efb437",
       "version_major": 2,
       "version_minor": 0
      },
      "text/plain": [
       "interactive(children=(Dropdown(description='Column:', options=('Pressure (Pa)',), value='Pressure (Pa)'), Outp…"
      ]
     },
     "metadata": {},
     "output_type": "display_data"
    },
    {
     "data": {
      "text/plain": [
       "<function __main__.identify_unusual_values(column)>"
      ]
     },
     "execution_count": 8,
     "metadata": {},
     "output_type": "execute_result"
    }
   ],
   "source": [
    "# Next, we will identify any spurious or unusual data values. We can do this by plotting the data\n",
    "# and looking for any outliers or sudden changes.\n",
    "\n",
    "# Function to identify unusual values\n",
    "def identify_unusual_values(column):\n",
    "    plt.figure(figsize=(12, 6))\n",
    "    sns.boxplot(x=df[column])\n",
    "    plt.title(f'Boxplot of {column}')\n",
    "    plt.xlabel(column)\n",
    "    plt.show()\n",
    "\n",
    "# An interactive widget to select the column to identify unusual values\n",
    "interact(identify_unusual_values, column=widgets.Dropdown(options=df.columns[1:], description='Column:'))\n",
    "\n"
   ]
  },
  {
   "cell_type": "code",
   "execution_count": 14,
   "id": "39ed2c94-c96b-4f7a-a113-9bfbe06c3d63",
   "metadata": {},
   "outputs": [],
   "source": [
    "# Does the data make sense?  Do you payload values match what you expect? Compare to literature!"
   ]
  },
  {
   "cell_type": "markdown",
   "id": "647a69d3-7b29-46ef-9108-38ac052ef3be",
   "metadata": {},
   "source": [
    "## Step 4: Identify Key Events"
   ]
  },
  {
   "cell_type": "code",
   "execution_count": 10,
   "id": "99ec44d6-e8b6-4754-b5d0-a71c30cdb88a",
   "metadata": {},
   "outputs": [
    {
     "name": "stdout",
     "output_type": "stream",
     "text": [
      "Total Length of Flight Time: 15.99 seconds\n"
     ]
    }
   ],
   "source": [
    "# Now, let's identify key events during the flight. We will determine when the rocket reached its peak\n",
    "# altitude, when free fall started, and when the parachute deployed.\n",
    "\n",
    "# Total Length of Flight Time\n",
    "\n",
    "# First estimate of total length of flight time is the difference between the last and first time ticks.\n",
    "total_flight_time = df['Time (s)'].iloc[-1] - df['Time (s)'].iloc[0]\n",
    "print(f'Total Length of Flight Time: {total_flight_time} seconds')\n",
    "\n",
    "#Is this accurate?\n",
    "#Maybe you need to process the data further?\n",
    "\n"
   ]
  },
  {
   "cell_type": "code",
   "execution_count": 13,
   "id": "3a3ccea4-fc43-43bf-8c06-7f4442b9d8e1",
   "metadata": {},
   "outputs": [
    {
     "name": "stdout",
     "output_type": "stream",
     "text": [
      "Thrust Phase Duration: ? seconds\n",
      "Free Fall Duration: ? seconds\n",
      "Parachute Descent Duration: ? seconds\n"
     ]
    }
   ],
   "source": [
    "# Peak Altitude &  Free Fall Start\n",
    "\n",
    "# Can you use your data to estimate when the rocket reached its peak altitude?\n",
    "\n",
    "\n",
    "# Parachute Deployment\n",
    "\n",
    "# Can you use your data to estimate when the parachute deployed? \n",
    "\n",
    "# Duration of Each Section\n",
    "\n",
    "print('Thrust Phase Duration: ? seconds')\n",
    "print('Free Fall Duration: ? seconds')\n",
    "print('Parachute Descent Duration: ? seconds')"
   ]
  },
  {
   "cell_type": "code",
   "execution_count": null,
   "id": "e2b19fef-8a81-4297-84ce-ad78baafd7d5",
   "metadata": {},
   "outputs": [],
   "source": []
  },
  {
   "cell_type": "code",
   "execution_count": null,
   "id": "e63d74f9-4f19-4c87-a748-89fc709ab6d1",
   "metadata": {},
   "outputs": [],
   "source": []
  },
  {
   "cell_type": "code",
   "execution_count": null,
   "id": "f6231425-f01e-4d32-bd84-3d4e0279317e",
   "metadata": {},
   "outputs": [],
   "source": []
  },
  {
   "cell_type": "code",
   "execution_count": null,
   "id": "1cff3b59-129e-4508-82ca-d43ba5347e54",
   "metadata": {},
   "outputs": [],
   "source": []
  },
  {
   "cell_type": "code",
   "execution_count": null,
   "id": "0a884d6a-50ab-48be-968a-de48840584bc",
   "metadata": {},
   "outputs": [],
   "source": []
  },
  {
   "cell_type": "code",
   "execution_count": null,
   "id": "ff4807b6-5d0b-4bc5-96c8-d0d56269b402",
   "metadata": {},
   "outputs": [],
   "source": []
  },
  {
   "cell_type": "code",
   "execution_count": null,
   "id": "6ba56aac-9a7a-45ea-8b28-931e34cd7610",
   "metadata": {},
   "outputs": [],
   "source": []
  },
  {
   "cell_type": "code",
   "execution_count": null,
   "id": "352493b4-6391-4b31-9bad-5feed2a231fe",
   "metadata": {},
   "outputs": [],
   "source": []
  }
 ],
 "metadata": {
  "kernelspec": {
   "display_name": "Python 3 (ipykernel)",
   "language": "python",
   "name": "python3"
  },
  "language_info": {
   "codemirror_mode": {
    "name": "ipython",
    "version": 3
   },
   "file_extension": ".py",
   "mimetype": "text/x-python",
   "name": "python",
   "nbconvert_exporter": "python",
   "pygments_lexer": "ipython3",
   "version": "3.10.13"
  }
 },
 "nbformat": 4,
 "nbformat_minor": 5
}
