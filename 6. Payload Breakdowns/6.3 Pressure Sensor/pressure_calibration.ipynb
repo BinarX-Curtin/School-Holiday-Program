{
 "cells": [
  {
   "cell_type": "markdown",
   "id": "24e5476a-7399-4828-9818-eae978c87827",
   "metadata": {},
   "source": [
    "Based on C code in BMP390 datasheet: https://www.bosch-sensortec.com/media/boschsensortec/downloads/datasheets/bst-bmp390-ds002.pdf"
   ]
  },
  {
   "cell_type": "code",
   "execution_count": 32,
   "id": "9d730f07-aba5-406e-8636-f72cffb07340",
   "metadata": {
    "tags": []
   },
   "outputs": [],
   "source": [
    "import numpy as np"
   ]
  },
  {
   "cell_type": "code",
   "execution_count": 33,
   "id": "fe37ce7e-cf21-4cad-a5af-1342d5c347d9",
   "metadata": {
    "tags": []
   },
   "outputs": [],
   "source": [
    "nvm_tl = 28064\n",
    "nvm_t2 = 19782\n",
    "nvm_t3 = -7\n",
    "nvm_p1 = 6718\n",
    "nvm_p2 = 5313\n",
    "nvm_p3 = 6\n",
    "nvm_p4 = 1\n",
    "nvm_p5 = 19669\n",
    "nvm_p6 = 23805\n",
    "nvm_p7 = 3\n",
    "nvm_p8 = -6\n",
    "nvm_p9 = 3958\n",
    "nvm_p10 = 5\n",
    "nvm_p11= 0"
   ]
  },
  {
   "cell_type": "code",
   "execution_count": 34,
   "id": "ae8361f3-28cb-4dda-87d6-6f02cdec7147",
   "metadata": {
    "tags": []
   },
   "outputs": [],
   "source": [
    "t1 = nvm_tl/(2**-8)\n",
    "t2 = nvm_t2/(2**30)\n",
    "t3 = nvm_t3/(2**48)\n",
    "p1 = (nvm_p1-2**14)/(2**20)\n",
    "p2 = (nvm_p2-2**14)/(2**29)\n",
    "p3 = nvm_p3/(2**32)\n",
    "p4 = nvm_p4/(2**37)\n",
    "p5 = nvm_p5/(2**(-3))\n",
    "p6 = nvm_p6/(2**6)\n",
    "p7 = nvm_p7/(2**8)\n",
    "p8 = nvm_p8/(2**15)\n",
    "p9 = nvm_p9/(2**48)\n",
    "p10 = nvm_p10/(2**48)\n",
    "p11 = nvm_p11/(2**65)"
   ]
  },
  {
   "cell_type": "code",
   "execution_count": 39,
   "id": "4a35c8c1-e0b4-421a-8eac-ff93f72be309",
   "metadata": {
    "tags": []
   },
   "outputs": [],
   "source": [
    "uncompensated_temperature = 8491264\n",
    "uncompensated_pressure = 6787584"
   ]
  },
  {
   "cell_type": "code",
   "execution_count": 40,
   "id": "07d15a6c-145a-4146-b223-a7368e8245da",
   "metadata": {
    "tags": []
   },
   "outputs": [
    {
     "name": "stdout",
     "output_type": "stream",
     "text": [
      "Temperature: 24.03 degrees C\n"
     ]
    }
   ],
   "source": [
    "partial_data1 = uncompensated_temperature-t1\n",
    "partial_data2 = partial_data1*t2\n",
    "temperature = partial_data2+(partial_data1*partial_data1)*t3\n",
    "print(\"Temperature: {:.2f} degrees C\".format(temperature))"
   ]
  },
  {
   "cell_type": "code",
   "execution_count": 42,
   "id": "09367fc0-2392-43a0-a5dd-2945378d56ec",
   "metadata": {
    "tags": []
   },
   "outputs": [
    {
     "name": "stdout",
     "output_type": "stream",
     "text": [
      "Pressure: 103.72 kPa\n"
     ]
    }
   ],
   "source": [
    "partial_data1 = p6*temperature\n",
    "partial_data2 = p7*temperature**2\n",
    "partial_data3 = p8*temperature**3\n",
    "partial_out1 = p5+partial_data1+partial_data2+partial_data3\n",
    "\n",
    "partial_data1 = p2*temperature\n",
    "partial_data2 = p3*temperature**2\n",
    "pratial_data3 = p4*temperature**3\n",
    "partial_out2 = uncompensated_pressure*p1+partial_data1+partial_data2+partial_data3\n",
    "\n",
    "partial_data1 = uncompensated_pressure**2\n",
    "partial_data2 = p9+p10*temperature\n",
    "pratial_data3 = partial_data1*partial_data2\n",
    "partial_data4 = pratial_data3*uncompensated_pressure**3*p11\n",
    "pressure = partial_out1+partial_out2+partial_data4\n",
    "print(\"Pressure: {:.2f} kPa\".format(pressure/1000))"
   ]
  }
 ],
 "metadata": {
  "kernelspec": {
   "display_name": "Python 3 (ipykernel)",
   "language": "python",
   "name": "python3"
  },
  "language_info": {
   "codemirror_mode": {
    "name": "ipython",
    "version": 3
   },
   "file_extension": ".py",
   "mimetype": "text/x-python",
   "name": "python",
   "nbconvert_exporter": "python",
   "pygments_lexer": "ipython3",
   "version": "3.9.7"
  }
 },
 "nbformat": 4,
 "nbformat_minor": 5
}
